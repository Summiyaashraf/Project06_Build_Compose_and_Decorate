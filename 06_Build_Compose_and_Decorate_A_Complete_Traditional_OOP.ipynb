{
  "nbformat": 4,
  "nbformat_minor": 0,
  "metadata": {
    "colab": {
      "provenance": [],
      "authorship_tag": "ABX9TyNwMAuetuSF7eSc1QAiwfGk",
      "include_colab_link": true
    },
    "kernelspec": {
      "name": "python3",
      "display_name": "Python 3"
    },
    "language_info": {
      "name": "python"
    }
  },
  "cells": [
    {
      "cell_type": "markdown",
      "metadata": {
        "id": "view-in-github",
        "colab_type": "text"
      },
      "source": [
        "<a href=\"https://colab.research.google.com/github/Summiyaashraf/Project06_Build_Compose_and_Decorate/blob/main/06_Build_Compose_and_Decorate_A_Complete_Traditional_OOP.ipynb\" target=\"_parent\"><img src=\"https://colab.research.google.com/assets/colab-badge.svg\" alt=\"Open In Colab\"/></a>"
      ]
    },
    {
      "cell_type": "code",
      "execution_count": 4,
      "metadata": {
        "colab": {
          "base_uri": "https://localhost:8080/"
        },
        "id": "dt2uQd6hzW5y",
        "outputId": "de96b1dc-09db-44a3-fa4b-5eca20c4b2ee"
      },
      "outputs": [
        {
          "output_type": "stream",
          "name": "stdout",
          "text": [
            "Name: Summiya, Marks: 100\n"
          ]
        }
      ],
      "source": [
        "class Student:\n",
        "    def __init__(self, name, marks):\n",
        "        self.name = name\n",
        "        self.marks = marks\n",
        "\n",
        "    def display(self):\n",
        "        print(f\"Name: {self.name}, Marks: {self.marks}\")\n",
        "\n",
        "student1 = Student(\"Summiya\", 100)\n",
        "student1.display()\n"
      ]
    },
    {
      "cell_type": "code",
      "source": [
        "class Counter:\n",
        "    count = 0\n",
        "    def __init__(self):\n",
        "        Counter.count += 2\n",
        "\n",
        "    @classmethod\n",
        "    def show_count(cls):\n",
        "        print(f\"Total Objects Created: {cls.count}\")\n",
        "\n",
        "obj1 = Counter()\n",
        "obj2 = Counter()\n",
        "obj3 = Counter()\n",
        "obj4 = Counter()\n",
        "Counter.show_count()"
      ],
      "metadata": {
        "colab": {
          "base_uri": "https://localhost:8080/"
        },
        "id": "QXz2AH-b1bt7",
        "outputId": "d81e65a6-d108-400f-965e-b7b79bc7d0f5"
      },
      "execution_count": 9,
      "outputs": [
        {
          "output_type": "stream",
          "name": "stdout",
          "text": [
            "Total Objects Created: 8\n"
          ]
        }
      ]
    },
    {
      "cell_type": "code",
      "source": [
        "class Car:\n",
        "    def __init__(self, brand):\n",
        "        self.brand = brand\n",
        "\n",
        "    def start(self):\n",
        "        print(f\"{self.brand} car is starting...\")\n",
        "\n",
        "my_car = Car(\"Farari\")\n",
        "\n",
        "print(my_car.brand)\n",
        "my_car.start()\n"
      ],
      "metadata": {
        "colab": {
          "base_uri": "https://localhost:8080/"
        },
        "id": "m-HXsBz43VLk",
        "outputId": "0a4d0ff9-4527-4783-9392-1d2a0fe80063"
      },
      "execution_count": 10,
      "outputs": [
        {
          "output_type": "stream",
          "name": "stdout",
          "text": [
            "Farari\n",
            "Farari car is starting...\n"
          ]
        }
      ]
    },
    {
      "cell_type": "code",
      "source": [
        "class Bank:\n",
        "    bank_name = \"Old Bank\"\n",
        "\n",
        "    @classmethod\n",
        "    def change_bank_name(cls, name):\n",
        "        cls.bank_name = name\n",
        "\n",
        "    def show(self):\n",
        "        print(f\"Bank Name: {self.bank_name}\")\n",
        "\n",
        "\n",
        "acc1 = Bank()\n",
        "acc2 = Bank()\n",
        "\n",
        "acc1.show()\n",
        "\n",
        "Bank.change_bank_name(\"New Future Bank\")\n",
        "\n",
        "acc1.show()\n",
        "acc2.show()\n"
      ],
      "metadata": {
        "colab": {
          "base_uri": "https://localhost:8080/"
        },
        "id": "lNdLaP6Y4VPO",
        "outputId": "1c2bcec0-e273-4005-c494-d4f36fd9828d"
      },
      "execution_count": 12,
      "outputs": [
        {
          "output_type": "stream",
          "name": "stdout",
          "text": [
            "Bank Name: Old Bank\n",
            "Bank Name: New Future Bank\n",
            "Bank Name: New Future Bank\n"
          ]
        }
      ]
    },
    {
      "cell_type": "code",
      "source": [
        "class MathUtils:\n",
        "    @staticmethod\n",
        "    def add(a, b):\n",
        "        return a + b\n",
        "\n",
        "result = MathUtils.add(6, 7)\n",
        "print(f\"Result: {result}\")"
      ],
      "metadata": {
        "colab": {
          "base_uri": "https://localhost:8080/"
        },
        "id": "BIR3OSaI4pLe",
        "outputId": "4af1a661-cadd-44c4-f345-bb91f3c1f57d"
      },
      "execution_count": 13,
      "outputs": [
        {
          "output_type": "stream",
          "name": "stdout",
          "text": [
            "Result: 13\n"
          ]
        }
      ]
    },
    {
      "cell_type": "code",
      "source": [
        "class Logger:\n",
        "    def __init__(self):\n",
        "        print(\"Object Created - Constructor Called\")\n",
        "\n",
        "    def __del__(self):\n",
        "        print(\"Object Destroyed - Destructor Called\")\n",
        "\n",
        "log = Logger()\n",
        "\n",
        "del log\n"
      ],
      "metadata": {
        "colab": {
          "base_uri": "https://localhost:8080/"
        },
        "id": "c6MWdjue5IFS",
        "outputId": "c147051e-538b-4e85-d1e4-653bd5558605"
      },
      "execution_count": 14,
      "outputs": [
        {
          "output_type": "stream",
          "name": "stdout",
          "text": [
            "Object Created - Constructor Called\n",
            "Object Destroyed - Destructor Called\n"
          ]
        }
      ]
    },
    {
      "cell_type": "code",
      "source": [
        "class Employee:\n",
        "    def __init__(self, name, salary, ssn):\n",
        "        self.name = name\n",
        "        self._salary = salary\n",
        "        self.__ssn = ssn\n",
        "\n",
        "emp = Employee(\"Summiya\", 60000, \"123-45-6789\")\n",
        "\n",
        "print(emp.name)\n",
        "print(emp._salary)\n",
        "# print(emp.__ssn)\n"
      ],
      "metadata": {
        "colab": {
          "base_uri": "https://localhost:8080/"
        },
        "id": "0cfDrqPQ5mBY",
        "outputId": "cd543020-a3c7-49da-d50a-a23500d6009f"
      },
      "execution_count": 16,
      "outputs": [
        {
          "output_type": "stream",
          "name": "stdout",
          "text": [
            "Summiya\n",
            "60000\n"
          ]
        }
      ]
    },
    {
      "cell_type": "code",
      "source": [
        "class Person:\n",
        "    def __init__(self, name):\n",
        "        self.name = name\n",
        "\n",
        "class Teacher(Person):\n",
        "    def __init__(self, name, subject):\n",
        "        super().__init__(name)\n",
        "        self.subject = subject\n",
        "\n",
        "teacher = Teacher(\"Asharib\", \"Math\")\n",
        "\n",
        "print(f\"Name: {teacher.name}, Subject: {teacher.subject}\")\n"
      ],
      "metadata": {
        "colab": {
          "base_uri": "https://localhost:8080/"
        },
        "id": "BjKTlMxB6xqm",
        "outputId": "d07e7fc1-9ea1-4ed2-ec9c-d9da988b6690"
      },
      "execution_count": 17,
      "outputs": [
        {
          "output_type": "stream",
          "name": "stdout",
          "text": [
            "Name: Asharib, Subject: Math\n"
          ]
        }
      ]
    },
    {
      "cell_type": "code",
      "source": [
        "from abc import ABC, abstractmethod\n",
        "\n",
        "class Shape(ABC):\n",
        "    @abstractmethod\n",
        "    def area(self):\n",
        "        pass\n",
        "\n",
        "class Rectangle(Shape):\n",
        "    def __init__(self, width, height):\n",
        "        self.width = width\n",
        "        self.height = height\n",
        "\n",
        "    def area(self):\n",
        "        return self.width * self.height\n",
        "\n",
        "rect = Rectangle(4, 5)\n",
        "\n",
        "print(f\"Area of Rectangle: {rect.area()}\")\n"
      ],
      "metadata": {
        "colab": {
          "base_uri": "https://localhost:8080/"
        },
        "id": "qSBDUhKy6-Lz",
        "outputId": "0cfd0461-3d4c-4412-e30d-d18ac62464a6"
      },
      "execution_count": 18,
      "outputs": [
        {
          "output_type": "stream",
          "name": "stdout",
          "text": [
            "Area of Rectangle: 20\n"
          ]
        }
      ]
    },
    {
      "cell_type": "code",
      "source": [
        "class Dog:\n",
        "    def __init__(self, name, breed):\n",
        "        self.name = name\n",
        "        self.breed = breed\n",
        "\n",
        "    def bark(self):\n",
        "        print(f\"{self.name} is barking!\")\n",
        "\n",
        "dog = Dog(\"Buddy\", \"Puppi\")\n",
        "\n",
        "dog.bark()\n"
      ],
      "metadata": {
        "colab": {
          "base_uri": "https://localhost:8080/"
        },
        "id": "Gg5WrgwG7WPu",
        "outputId": "2cf4bb69-f5c1-42ab-b04f-d82b8cdd2d48"
      },
      "execution_count": 21,
      "outputs": [
        {
          "output_type": "stream",
          "name": "stdout",
          "text": [
            "Buddy is barking!\n"
          ]
        }
      ]
    },
    {
      "cell_type": "code",
      "source": [
        "class Book:\n",
        "    total_books = 0\n",
        "\n",
        "    @classmethod\n",
        "    def increment_book_count(cls):\n",
        "        cls.total_books += 1\n",
        "\n",
        "    def __init__(self, title):\n",
        "        self.title = title\n",
        "        Book.increment_book_count()\n",
        "\n",
        "    def show(self):\n",
        "        print(f\"Book Title: {self.title}\")\n",
        "\n",
        "book1 = Book(\"Book One\")\n",
        "book2 = Book(\"Book Two\")\n",
        "book3 = Book(\"Book Three\")\n",
        "\n",
        "print(f\"Total Books: {Book.total_books}\")\n"
      ],
      "metadata": {
        "colab": {
          "base_uri": "https://localhost:8080/"
        },
        "id": "VTTH8Juf7td5",
        "outputId": "31878271-694a-4599-bd3f-7e4b2b7a0f4e"
      },
      "execution_count": 23,
      "outputs": [
        {
          "output_type": "stream",
          "name": "stdout",
          "text": [
            "Total Books: 3\n"
          ]
        }
      ]
    },
    {
      "cell_type": "code",
      "source": [
        "class TemperatureConverter:\n",
        "    @staticmethod\n",
        "    def celsius_to_fahrenheit(c):\n",
        "        return (c * 9/5) + 32\n",
        "\n",
        "temp_in_fahrenheit = TemperatureConverter.celsius_to_fahrenheit(25)\n",
        "print(f\"Temperature in Fahrenheit: {temp_in_fahrenheit}\")\n"
      ],
      "metadata": {
        "colab": {
          "base_uri": "https://localhost:8080/"
        },
        "id": "cf25Br0G8JZK",
        "outputId": "68af7f3e-e8ce-4038-83dc-084a19ae754e"
      },
      "execution_count": 25,
      "outputs": [
        {
          "output_type": "stream",
          "name": "stdout",
          "text": [
            "Temperature in Fahrenheit: 77.0\n"
          ]
        }
      ]
    },
    {
      "cell_type": "code",
      "source": [
        "class Engine:\n",
        "    def start(self):\n",
        "        print(\"Engine is starting...\")\n",
        "\n",
        "class Car:\n",
        "    def __init__(self, engine):\n",
        "        self.engine = engine\n",
        "\n",
        "    def drive(self):\n",
        "        self.engine.start()\n",
        "        print(\"Car is driving!\")\n",
        "\n",
        "engine = Engine()\n",
        "car = Car(engine)\n",
        "\n",
        "car.drive()\n"
      ],
      "metadata": {
        "colab": {
          "base_uri": "https://localhost:8080/"
        },
        "id": "2Pb4MWRT8wOw",
        "outputId": "60d543ad-187b-4e43-f917-cb31bbbdf426"
      },
      "execution_count": 26,
      "outputs": [
        {
          "output_type": "stream",
          "name": "stdout",
          "text": [
            "Engine is starting...\n",
            "Car is driving!\n"
          ]
        }
      ]
    },
    {
      "cell_type": "code",
      "source": [
        "class Employee:\n",
        "    def __init__(self, name, position):\n",
        "        self.name = name\n",
        "        self.position = position\n",
        "\n",
        "    def show(self):\n",
        "        print(f\"Employee Name: {self.name}, Position: {self.position}\")\n",
        "\n",
        "class Department:\n",
        "    def __init__(self, department_name, employee):\n",
        "        self.department_name = department_name\n",
        "        self.employee = employee\n",
        "\n",
        "    def show_department(self):\n",
        "        print(f\"Department: {self.department_name}\")\n",
        "        self.employee.show()\n",
        "\n",
        "emp = Employee(\"Ashraf\", \"Manager\")\n",
        "dept = Department(\"HR\", emp)\n",
        "dept.show_department()\n"
      ],
      "metadata": {
        "colab": {
          "base_uri": "https://localhost:8080/"
        },
        "id": "3d74TCTL9CDp",
        "outputId": "0d0ca7e4-dd07-411e-e27b-eebdd18c0364"
      },
      "execution_count": 27,
      "outputs": [
        {
          "output_type": "stream",
          "name": "stdout",
          "text": [
            "Department: HR\n",
            "Employee Name: Ashraf, Position: Manager\n"
          ]
        }
      ]
    },
    {
      "cell_type": "code",
      "source": [
        "class A:\n",
        "    def show(self):\n",
        "        print(\"Class A show() method\")\n",
        "\n",
        "class B(A):\n",
        "    def show(self):\n",
        "        print(\"Class B show() method\")\n",
        "\n",
        "class C(A):\n",
        "    def show(self):\n",
        "        print(\"Class C show() method\")\n",
        "\n",
        "class D(B, C):\n",
        "    pass\n",
        "\n",
        "d = D()\n",
        "d.show()\n",
        "\n",
        "print(D.__mro__)\n"
      ],
      "metadata": {
        "colab": {
          "base_uri": "https://localhost:8080/"
        },
        "id": "j4z-xBzv9aaG",
        "outputId": "c91f2b29-4660-491c-c44f-13360d655664"
      },
      "execution_count": 28,
      "outputs": [
        {
          "output_type": "stream",
          "name": "stdout",
          "text": [
            "Class B show() method\n",
            "(<class '__main__.D'>, <class '__main__.B'>, <class '__main__.C'>, <class '__main__.A'>, <class 'object'>)\n"
          ]
        }
      ]
    },
    {
      "cell_type": "code",
      "source": [
        "def log_function_call(func):\n",
        "    def wrapper():\n",
        "        print(\"Function is being called\")\n",
        "        func()\n",
        "    return wrapper\n",
        "\n",
        "@log_function_call\n",
        "def say_hello():\n",
        "    print(\"Hello!\")\n",
        "\n",
        "say_hello()\n"
      ],
      "metadata": {
        "colab": {
          "base_uri": "https://localhost:8080/"
        },
        "id": "2b6MbYER92Im",
        "outputId": "50497bf9-1b1c-4661-e4b8-833c3224a6cc"
      },
      "execution_count": 29,
      "outputs": [
        {
          "output_type": "stream",
          "name": "stdout",
          "text": [
            "Function is being called\n",
            "Hello!\n"
          ]
        }
      ]
    },
    {
      "cell_type": "code",
      "source": [
        "def add_greeting(cls):\n",
        "    cls.greet = lambda self: \"Hello from Decorator!\"\n",
        "    return cls\n",
        "\n",
        "@add_greeting\n",
        "class Person:\n",
        "    def __init__(self, name):\n",
        "        self.name = name\n",
        "\n",
        "person = Person(\"Safdar\")\n",
        "print(person.greet())\n"
      ],
      "metadata": {
        "colab": {
          "base_uri": "https://localhost:8080/"
        },
        "id": "rsUxUjfp-CLi",
        "outputId": "5d471808-7296-49a1-8749-dc3db630d775"
      },
      "execution_count": 30,
      "outputs": [
        {
          "output_type": "stream",
          "name": "stdout",
          "text": [
            "Hello from Decorator!\n"
          ]
        }
      ]
    },
    {
      "cell_type": "code",
      "source": [
        "class Product:\n",
        "    def __init__(self, price):\n",
        "        self._price = price  # Private variable\n",
        "\n",
        "    @property\n",
        "    def price(self):\n",
        "        return self._price\n",
        "\n",
        "    @price.setter\n",
        "    def price(self, value):\n",
        "        if value > 0:\n",
        "            self._price = value\n",
        "        else:\n",
        "            print(\"Price must be positive!\")\n",
        "\n",
        "    @price.deleter\n",
        "    def price(self):\n",
        "        print(\"Price has been deleted\")\n",
        "        del self._price\n",
        "\n",
        "product = Product(100)\n",
        "\n",
        "print(product.price)\n",
        "\n",
        "product.price = 150\n",
        "print(product.price)\n",
        "\n",
        "product.price = -50\n",
        "del product.price\n"
      ],
      "metadata": {
        "colab": {
          "base_uri": "https://localhost:8080/"
        },
        "id": "KUN7punS-WOP",
        "outputId": "c83a54a2-f067-4191-c9c3-bbda09e9ef14"
      },
      "execution_count": 31,
      "outputs": [
        {
          "output_type": "stream",
          "name": "stdout",
          "text": [
            "100\n",
            "150\n",
            "Price must be positive!\n",
            "Price has been deleted\n"
          ]
        }
      ]
    },
    {
      "cell_type": "code",
      "source": [
        "class Multiplier:\n",
        "    def __init__(self, factor):\n",
        "        self.factor = factor\n",
        "\n",
        "    def __call__(self, x):\n",
        "        return x * self.factor\n",
        "\n",
        "multiply_by_3 = Multiplier(3)\n",
        "\n",
        "print(callable(multiply_by_3))\n",
        "\n",
        "print(multiply_by_3(5))\n"
      ],
      "metadata": {
        "colab": {
          "base_uri": "https://localhost:8080/"
        },
        "id": "ODGYeTCf-lT2",
        "outputId": "92a885cb-833e-4413-f17d-84d2c9934245"
      },
      "execution_count": 32,
      "outputs": [
        {
          "output_type": "stream",
          "name": "stdout",
          "text": [
            "True\n",
            "15\n"
          ]
        }
      ]
    },
    {
      "cell_type": "code",
      "source": [
        "class InvalidAgeError(Exception):\n",
        "    pass\n",
        "\n",
        "def check_age(age):\n",
        "    if age < 18:\n",
        "        raise InvalidAgeError(\"Age must be 18 or older\")\n",
        "    print(\"Age is valid\")\n",
        "\n",
        "try:\n",
        "    check_age(16)\n",
        "except InvalidAgeError as e:\n",
        "    print(f\"Error: {e}\")\n"
      ],
      "metadata": {
        "colab": {
          "base_uri": "https://localhost:8080/"
        },
        "id": "nNHXVb3K-_Gw",
        "outputId": "25dbe357-4708-45d4-c23d-564b08e114ae"
      },
      "execution_count": 33,
      "outputs": [
        {
          "output_type": "stream",
          "name": "stdout",
          "text": [
            "Error: Age must be 18 or older\n"
          ]
        }
      ]
    },
    {
      "cell_type": "code",
      "source": [
        "class Countdown:\n",
        "    def __init__(self, start):\n",
        "        self.start = start\n",
        "        self.current = start\n",
        "\n",
        "    def __iter__(self):\n",
        "        return self\n",
        "\n",
        "    def __next__(self):\n",
        "        if self.current <= 0:\n",
        "            raise StopIteration\n",
        "        self.current -= 1\n",
        "        return self.current + 1\n",
        "\n",
        "countdown = Countdown(5)\n",
        "for num in countdown:\n",
        "    print(num)\n"
      ],
      "metadata": {
        "colab": {
          "base_uri": "https://localhost:8080/"
        },
        "id": "zhzZgE6c_UUY",
        "outputId": "e09c7670-d9a9-4bab-8947-d4bed1dbbb57"
      },
      "execution_count": 34,
      "outputs": [
        {
          "output_type": "stream",
          "name": "stdout",
          "text": [
            "5\n",
            "4\n",
            "3\n",
            "2\n",
            "1\n"
          ]
        }
      ]
    }
  ]
}